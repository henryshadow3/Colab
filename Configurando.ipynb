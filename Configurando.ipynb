{
  "cells": [
    {
      "cell_type": "markdown",
      "metadata": {
        "id": "view-in-github",
        "colab_type": "text"
      },
      "source": [
        "<a href=\"https://colab.research.google.com/github/henryshadow3/Colab/blob/main/Configurando.ipynb\" target=\"_parent\"><img src=\"https://colab.research.google.com/assets/colab-badge.svg\" alt=\"Open In Colab\"/></a>"
      ]
    },
    {
      "cell_type": "code",
      "execution_count": 1,
      "metadata": {
        "colab": {
          "base_uri": "https://localhost:8080/"
        },
        "id": "hnJnLRTtzInq",
        "outputId": "f7c0ea50-0236-4f1f-9a31-78f7e3c2250a"
      },
      "outputs": [
        {
          "output_type": "stream",
          "name": "stdout",
          "text": [
            "Collecting kaleido\n",
            "  Downloading kaleido-0.2.1-py2.py3-none-manylinux1_x86_64.whl (79.9 MB)\n",
            "\u001b[2K     \u001b[90m━━━━━━━━━━━━━━━━━━━━━━━━━━━━━━━━━━━━━━━━\u001b[0m \u001b[32m79.9/79.9 MB\u001b[0m \u001b[31m9.2 MB/s\u001b[0m eta \u001b[36m0:00:00\u001b[0m\n",
            "\u001b[?25hInstalling collected packages: kaleido\n",
            "\u001b[31mERROR: pip's dependency resolver does not currently take into account all the packages that are installed. This behaviour is the source of the following dependency conflicts.\n",
            "lida 0.0.10 requires fastapi, which is not installed.\n",
            "lida 0.0.10 requires python-multipart, which is not installed.\n",
            "lida 0.0.10 requires uvicorn, which is not installed.\u001b[0m\u001b[31m\n",
            "\u001b[0mSuccessfully installed kaleido-0.2.1\n"
          ]
        }
      ],
      "source": [
        "!pip install kaleido\n"
      ]
    },
    {
      "cell_type": "code",
      "execution_count": 2,
      "metadata": {
        "colab": {
          "base_uri": "https://localhost:8080/"
        },
        "id": "tZ3HL0WyxL2q",
        "outputId": "b19cf22c-aaba-442b-b9b0-86667b518900"
      },
      "outputs": [
        {
          "output_type": "stream",
          "name": "stdout",
          "text": [
            "Collecting reflex\n",
            "  Downloading reflex-0.3.9-py3-none-any.whl (715 kB)\n",
            "\u001b[2K     \u001b[90m━━━━━━━━━━━━━━━━━━━━━━━━━━━━━━━━━━━━━━━━\u001b[0m \u001b[32m716.0/716.0 kB\u001b[0m \u001b[31m16.5 MB/s\u001b[0m eta \u001b[36m0:00:00\u001b[0m\n",
            "\u001b[?25hCollecting alembic<2.0.0,>=1.11.1 (from reflex)\n",
            "  Downloading alembic-1.13.1-py3-none-any.whl (233 kB)\n",
            "\u001b[2K     \u001b[90m━━━━━━━━━━━━━━━━━━━━━━━━━━━━━━━━━━━━━━━━\u001b[0m \u001b[32m233.4/233.4 kB\u001b[0m \u001b[31m30.9 MB/s\u001b[0m eta \u001b[36m0:00:00\u001b[0m\n",
            "\u001b[?25hRequirement already satisfied: charset-normalizer<4.0.0,>=3.3.2 in /usr/local/lib/python3.10/dist-packages (from reflex) (3.3.2)\n",
            "Requirement already satisfied: cloudpickle<3.0.0,>=2.2.1 in /usr/local/lib/python3.10/dist-packages (from reflex) (2.2.1)\n",
            "Collecting distro<2.0.0,>=1.8.0 (from reflex)\n",
            "  Downloading distro-1.9.0-py3-none-any.whl (20 kB)\n",
            "Collecting fastapi<0.97.0,>=0.96.0 (from reflex)\n",
            "  Downloading fastapi-0.96.1-py3-none-any.whl (57 kB)\n",
            "\u001b[2K     \u001b[90m━━━━━━━━━━━━━━━━━━━━━━━━━━━━━━━━━━━━━━━━\u001b[0m \u001b[32m57.1/57.1 kB\u001b[0m \u001b[31m9.3 MB/s\u001b[0m eta \u001b[36m0:00:00\u001b[0m\n",
            "\u001b[?25hCollecting gunicorn<21.0.0,>=20.1.0 (from reflex)\n",
            "  Downloading gunicorn-20.1.0-py3-none-any.whl (79 kB)\n",
            "\u001b[2K     \u001b[90m━━━━━━━━━━━━━━━━━━━━━━━━━━━━━━━━━━━━━━━━\u001b[0m \u001b[32m79.5/79.5 kB\u001b[0m \u001b[31m12.6 MB/s\u001b[0m eta \u001b[36m0:00:00\u001b[0m\n",
            "\u001b[?25hCollecting httpx<0.26.0,>=0.24.0 (from reflex)\n",
            "  Downloading httpx-0.25.2-py3-none-any.whl (74 kB)\n",
            "\u001b[2K     \u001b[90m━━━━━━━━━━━━━━━━━━━━━━━━━━━━━━━━━━━━━━━━\u001b[0m \u001b[32m75.0/75.0 kB\u001b[0m \u001b[31m12.0 MB/s\u001b[0m eta \u001b[36m0:00:00\u001b[0m\n",
            "\u001b[?25hRequirement already satisfied: jinja2<4.0.0,>=3.1.2 in /usr/local/lib/python3.10/dist-packages (from reflex) (3.1.3)\n",
            "Requirement already satisfied: packaging<24.0,>=23.1 in /usr/local/lib/python3.10/dist-packages (from reflex) (23.2)\n",
            "Collecting pipdeptree<3.0.0,>=2.13.0 (from reflex)\n",
            "  Downloading pipdeptree-2.13.2-py3-none-any.whl (26 kB)\n",
            "Collecting platformdirs<4.0.0,>=3.10.0 (from reflex)\n",
            "  Downloading platformdirs-3.11.0-py3-none-any.whl (17 kB)\n",
            "Requirement already satisfied: psutil<6.0.0,>=5.9.4 in /usr/local/lib/python3.10/dist-packages (from reflex) (5.9.5)\n",
            "Requirement already satisfied: pydantic<2.0.0,>=1.10.2 in /usr/local/lib/python3.10/dist-packages (from reflex) (1.10.14)\n",
            "Collecting python-engineio!=4.6.0 (from reflex)\n",
            "  Downloading python_engineio-4.9.0-py3-none-any.whl (57 kB)\n",
            "\u001b[2K     \u001b[90m━━━━━━━━━━━━━━━━━━━━━━━━━━━━━━━━━━━━━━━━\u001b[0m \u001b[32m57.5/57.5 kB\u001b[0m \u001b[31m10.4 MB/s\u001b[0m eta \u001b[36m0:00:00\u001b[0m\n",
            "\u001b[?25hCollecting python-multipart<0.0.6,>=0.0.5 (from reflex)\n",
            "  Downloading python-multipart-0.0.5.tar.gz (32 kB)\n",
            "  Preparing metadata (setup.py) ... \u001b[?25l\u001b[?25hdone\n",
            "Collecting python-socketio<6.0.0,>=5.7.0 (from reflex)\n",
            "  Downloading python_socketio-5.11.1-py3-none-any.whl (75 kB)\n",
            "\u001b[2K     \u001b[90m━━━━━━━━━━━━━━━━━━━━━━━━━━━━━━━━━━━━━━━━\u001b[0m \u001b[32m75.5/75.5 kB\u001b[0m \u001b[31m11.7 MB/s\u001b[0m eta \u001b[36m0:00:00\u001b[0m\n",
            "\u001b[?25hCollecting redis<5.0.0,>=4.3.5 (from reflex)\n",
            "  Downloading redis-4.6.0-py3-none-any.whl (241 kB)\n",
            "\u001b[2K     \u001b[90m━━━━━━━━━━━━━━━━━━━━━━━━━━━━━━━━━━━━━━━━\u001b[0m \u001b[32m241.1/241.1 kB\u001b[0m \u001b[31m32.1 MB/s\u001b[0m eta \u001b[36m0:00:00\u001b[0m\n",
            "\u001b[?25hCollecting reflex-hosting-cli>=0.1.2 (from reflex)\n",
            "  Downloading reflex_hosting_cli-0.1.7-py3-none-any.whl (31 kB)\n",
            "Requirement already satisfied: rich<14.0.0,>=13.0.0 in /usr/local/lib/python3.10/dist-packages (from reflex) (13.7.0)\n",
            "Collecting sqlmodel<0.0.15,>=0.0.14 (from reflex)\n",
            "  Downloading sqlmodel-0.0.14-py3-none-any.whl (25 kB)\n",
            "Collecting starlette-admin<0.10.0,>=0.9.0 (from reflex)\n",
            "  Downloading starlette_admin-0.9.0-py3-none-any.whl (2.1 MB)\n",
            "\u001b[2K     \u001b[90m━━━━━━━━━━━━━━━━━━━━━━━━━━━━━━━━━━━━━━━━\u001b[0m \u001b[32m2.1/2.1 MB\u001b[0m \u001b[31m68.8 MB/s\u001b[0m eta \u001b[36m0:00:00\u001b[0m\n",
            "\u001b[?25hRequirement already satisfied: typer<1,>=0.4.2 in /usr/local/lib/python3.10/dist-packages (from reflex) (0.9.0)\n",
            "Collecting uvicorn<0.21.0,>=0.20.0 (from reflex)\n",
            "  Downloading uvicorn-0.20.0-py3-none-any.whl (56 kB)\n",
            "\u001b[2K     \u001b[90m━━━━━━━━━━━━━━━━━━━━━━━━━━━━━━━━━━━━━━━━\u001b[0m \u001b[32m56.9/56.9 kB\u001b[0m \u001b[31m9.4 MB/s\u001b[0m eta \u001b[36m0:00:00\u001b[0m\n",
            "\u001b[?25hCollecting watchdog<3.0.0,>=2.3.1 (from reflex)\n",
            "  Downloading watchdog-2.3.1-py3-none-manylinux2014_x86_64.whl (80 kB)\n",
            "\u001b[2K     \u001b[90m━━━━━━━━━━━━━━━━━━━━━━━━━━━━━━━━━━━━━━━━\u001b[0m \u001b[32m80.6/80.6 kB\u001b[0m \u001b[31m14.1 MB/s\u001b[0m eta \u001b[36m0:00:00\u001b[0m\n",
            "\u001b[?25hCollecting watchfiles<0.20.0,>=0.19.0 (from reflex)\n",
            "  Downloading watchfiles-0.19.0-cp37-abi3-manylinux_2_17_x86_64.manylinux2014_x86_64.whl (1.3 MB)\n",
            "\u001b[2K     \u001b[90m━━━━━━━━━━━━━━━━━━━━━━━━━━━━━━━━━━━━━━━━\u001b[0m \u001b[32m1.3/1.3 MB\u001b[0m \u001b[31m70.3 MB/s\u001b[0m eta \u001b[36m0:00:00\u001b[0m\n",
            "\u001b[?25hRequirement already satisfied: wrapt<2.0.0,>=1.11.0 in /usr/local/lib/python3.10/dist-packages (from reflex) (1.14.1)\n",
            "Requirement already satisfied: SQLAlchemy>=1.3.0 in /usr/local/lib/python3.10/dist-packages (from alembic<2.0.0,>=1.11.1->reflex) (2.0.24)\n",
            "Collecting Mako (from alembic<2.0.0,>=1.11.1->reflex)\n",
            "  Downloading Mako-1.3.2-py3-none-any.whl (78 kB)\n",
            "\u001b[2K     \u001b[90m━━━━━━━━━━━━━━━━━━━━━━━━━━━━━━━━━━━━━━━━\u001b[0m \u001b[32m78.7/78.7 kB\u001b[0m \u001b[31m13.1 MB/s\u001b[0m eta \u001b[36m0:00:00\u001b[0m\n",
            "\u001b[?25hRequirement already satisfied: typing-extensions>=4 in /usr/local/lib/python3.10/dist-packages (from alembic<2.0.0,>=1.11.1->reflex) (4.5.0)\n",
            "Collecting starlette<0.28.0,>=0.27.0 (from fastapi<0.97.0,>=0.96.0->reflex)\n",
            "  Downloading starlette-0.27.0-py3-none-any.whl (66 kB)\n",
            "\u001b[2K     \u001b[90m━━━━━━━━━━━━━━━━━━━━━━━━━━━━━━━━━━━━━━━━\u001b[0m \u001b[32m67.0/67.0 kB\u001b[0m \u001b[31m6.6 MB/s\u001b[0m eta \u001b[36m0:00:00\u001b[0m\n",
            "\u001b[?25hRequirement already satisfied: setuptools>=3.0 in /usr/local/lib/python3.10/dist-packages (from gunicorn<21.0.0,>=20.1.0->reflex) (67.7.2)\n",
            "Requirement already satisfied: anyio in /usr/local/lib/python3.10/dist-packages (from httpx<0.26.0,>=0.24.0->reflex) (3.7.1)\n",
            "Requirement already satisfied: certifi in /usr/local/lib/python3.10/dist-packages (from httpx<0.26.0,>=0.24.0->reflex) (2023.11.17)\n",
            "Collecting httpcore==1.* (from httpx<0.26.0,>=0.24.0->reflex)\n",
            "  Downloading httpcore-1.0.2-py3-none-any.whl (76 kB)\n",
            "\u001b[2K     \u001b[90m━━━━━━━━━━━━━━━━━━━━━━━━━━━━━━━━━━━━━━━━\u001b[0m \u001b[32m76.9/76.9 kB\u001b[0m \u001b[31m10.7 MB/s\u001b[0m eta \u001b[36m0:00:00\u001b[0m\n",
            "\u001b[?25hRequirement already satisfied: idna in /usr/local/lib/python3.10/dist-packages (from httpx<0.26.0,>=0.24.0->reflex) (3.6)\n",
            "Requirement already satisfied: sniffio in /usr/local/lib/python3.10/dist-packages (from httpx<0.26.0,>=0.24.0->reflex) (1.3.0)\n",
            "Collecting h11<0.15,>=0.13 (from httpcore==1.*->httpx<0.26.0,>=0.24.0->reflex)\n",
            "  Downloading h11-0.14.0-py3-none-any.whl (58 kB)\n",
            "\u001b[2K     \u001b[90m━━━━━━━━━━━━━━━━━━━━━━━━━━━━━━━━━━━━━━━━\u001b[0m \u001b[32m58.3/58.3 kB\u001b[0m \u001b[31m9.0 MB/s\u001b[0m eta \u001b[36m0:00:00\u001b[0m\n",
            "\u001b[?25hRequirement already satisfied: MarkupSafe>=2.0 in /usr/local/lib/python3.10/dist-packages (from jinja2<4.0.0,>=3.1.2->reflex) (2.1.4)\n",
            "Collecting simple-websocket>=0.10.0 (from python-engineio!=4.6.0->reflex)\n",
            "  Downloading simple_websocket-1.0.0-py3-none-any.whl (13 kB)\n",
            "Requirement already satisfied: six>=1.4.0 in /usr/local/lib/python3.10/dist-packages (from python-multipart<0.0.6,>=0.0.5->reflex) (1.16.0)\n",
            "Requirement already satisfied: bidict>=0.21.0 in /usr/local/lib/python3.10/dist-packages (from python-socketio<6.0.0,>=5.7.0->reflex) (0.22.1)\n",
            "Requirement already satisfied: async-timeout>=4.0.2 in /usr/local/lib/python3.10/dist-packages (from redis<5.0.0,>=4.3.5->reflex) (4.0.3)\n",
            "Collecting coverage<8.0.0,>=7.3.2 (from reflex-hosting-cli>=0.1.2->reflex)\n",
            "  Downloading coverage-7.4.1-cp310-cp310-manylinux_2_5_x86_64.manylinux1_x86_64.manylinux_2_17_x86_64.manylinux2014_x86_64.whl (233 kB)\n",
            "\u001b[2K     \u001b[90m━━━━━━━━━━━━━━━━━━━━━━━━━━━━━━━━━━━━━━━━\u001b[0m \u001b[32m234.0/234.0 kB\u001b[0m \u001b[31m33.0 MB/s\u001b[0m eta \u001b[36m0:00:00\u001b[0m\n",
            "\u001b[?25hCollecting httpx<0.26.0,>=0.24.0 (from reflex)\n",
            "  Downloading httpx-0.24.1-py3-none-any.whl (75 kB)\n",
            "\u001b[2K     \u001b[90m━━━━━━━━━━━━━━━━━━━━━━━━━━━━━━━━━━━━━━━━\u001b[0m \u001b[32m75.4/75.4 kB\u001b[0m \u001b[31m12.5 MB/s\u001b[0m eta \u001b[36m0:00:00\u001b[0m\n",
            "\u001b[?25hCollecting pipreqs<0.5.0,>=0.4.13 (from reflex-hosting-cli>=0.1.2->reflex)\n",
            "  Downloading pipreqs-0.4.13-py2.py3-none-any.whl (33 kB)\n",
            "Requirement already satisfied: python-dateutil<3.0.0,>=2.8.2 in /usr/local/lib/python3.10/dist-packages (from reflex-hosting-cli>=0.1.2->reflex) (2.8.2)\n",
            "Requirement already satisfied: tabulate<0.10.0,>=0.9.0 in /usr/local/lib/python3.10/dist-packages (from reflex-hosting-cli>=0.1.2->reflex) (0.9.0)\n",
            "Collecting websockets>=10.4 (from reflex-hosting-cli>=0.1.2->reflex)\n",
            "  Downloading websockets-12.0-cp310-cp310-manylinux_2_5_x86_64.manylinux1_x86_64.manylinux_2_17_x86_64.manylinux2014_x86_64.whl (130 kB)\n",
            "\u001b[2K     \u001b[90m━━━━━━━━━━━━━━━━━━━━━━━━━━━━━━━━━━━━━━━━\u001b[0m \u001b[32m130.2/130.2 kB\u001b[0m \u001b[31m19.5 MB/s\u001b[0m eta \u001b[36m0:00:00\u001b[0m\n",
            "\u001b[?25hCollecting httpcore<0.18.0,>=0.15.0 (from httpx<0.26.0,>=0.24.0->reflex)\n",
            "  Downloading httpcore-0.17.3-py3-none-any.whl (74 kB)\n",
            "\u001b[2K     \u001b[90m━━━━━━━━━━━━━━━━━━━━━━━━━━━━━━━━━━━━━━━━\u001b[0m \u001b[32m74.5/74.5 kB\u001b[0m \u001b[31m12.1 MB/s\u001b[0m eta \u001b[36m0:00:00\u001b[0m\n",
            "\u001b[?25hRequirement already satisfied: markdown-it-py>=2.2.0 in /usr/local/lib/python3.10/dist-packages (from rich<14.0.0,>=13.0.0->reflex) (3.0.0)\n",
            "Requirement already satisfied: pygments<3.0.0,>=2.13.0 in /usr/local/lib/python3.10/dist-packages (from rich<14.0.0,>=13.0.0->reflex) (2.16.1)\n",
            "Requirement already satisfied: click<9.0.0,>=7.1.1 in /usr/local/lib/python3.10/dist-packages (from typer<1,>=0.4.2->reflex) (8.1.7)\n",
            "Requirement already satisfied: exceptiongroup in /usr/local/lib/python3.10/dist-packages (from anyio->httpx<0.26.0,>=0.24.0->reflex) (1.2.0)\n",
            "Requirement already satisfied: mdurl~=0.1 in /usr/local/lib/python3.10/dist-packages (from markdown-it-py>=2.2.0->rich<14.0.0,>=13.0.0->reflex) (0.1.2)\n",
            "Collecting docopt (from pipreqs<0.5.0,>=0.4.13->reflex-hosting-cli>=0.1.2->reflex)\n",
            "  Downloading docopt-0.6.2.tar.gz (25 kB)\n",
            "  Preparing metadata (setup.py) ... \u001b[?25l\u001b[?25hdone\n",
            "Collecting yarg (from pipreqs<0.5.0,>=0.4.13->reflex-hosting-cli>=0.1.2->reflex)\n",
            "  Downloading yarg-0.1.9-py2.py3-none-any.whl (19 kB)\n",
            "Collecting wsproto (from simple-websocket>=0.10.0->python-engineio!=4.6.0->reflex)\n",
            "  Downloading wsproto-1.2.0-py3-none-any.whl (24 kB)\n",
            "Requirement already satisfied: greenlet!=0.4.17 in /usr/local/lib/python3.10/dist-packages (from SQLAlchemy>=1.3.0->alembic<2.0.0,>=1.11.1->reflex) (3.0.3)\n",
            "Requirement already satisfied: requests in /usr/local/lib/python3.10/dist-packages (from yarg->pipreqs<0.5.0,>=0.4.13->reflex-hosting-cli>=0.1.2->reflex) (2.31.0)\n",
            "Requirement already satisfied: urllib3<3,>=1.21.1 in /usr/local/lib/python3.10/dist-packages (from requests->yarg->pipreqs<0.5.0,>=0.4.13->reflex-hosting-cli>=0.1.2->reflex) (2.0.7)\n",
            "Building wheels for collected packages: python-multipart, docopt\n",
            "  Building wheel for python-multipart (setup.py) ... \u001b[?25l\u001b[?25hdone\n",
            "  Created wheel for python-multipart: filename=python_multipart-0.0.5-py3-none-any.whl size=31666 sha256=fa5a7eb334139c850ba055b2551c923d9d8bf33183f2cf72e2f556d03b6a5c08\n",
            "  Stored in directory: /root/.cache/pip/wheels/ae/3f/03/fa4bd98cd7f4a25e63b6a0b61a7a8352e0f874cd9de1f3390d\n",
            "  Building wheel for docopt (setup.py) ... \u001b[?25l\u001b[?25hdone\n",
            "  Created wheel for docopt: filename=docopt-0.6.2-py2.py3-none-any.whl size=13706 sha256=f477b7000770fa517cf24a8b3d483b32ee86e9d7b2715ec2adac02e685e56e58\n",
            "  Stored in directory: /root/.cache/pip/wheels/fc/ab/d4/5da2067ac95b36618c629a5f93f809425700506f72c9732fac\n",
            "Successfully built python-multipart docopt\n",
            "Installing collected packages: docopt, websockets, watchdog, redis, python-multipart, platformdirs, pipdeptree, Mako, h11, gunicorn, distro, coverage, yarg, wsproto, watchfiles, uvicorn, starlette, sqlmodel, httpcore, alembic, starlette-admin, simple-websocket, pipreqs, httpx, fastapi, reflex-hosting-cli, python-engineio, python-socketio, reflex\n",
            "  Attempting uninstall: platformdirs\n",
            "    Found existing installation: platformdirs 4.2.0\n",
            "    Uninstalling platformdirs-4.2.0:\n",
            "      Successfully uninstalled platformdirs-4.2.0\n",
            "  Attempting uninstall: distro\n",
            "    Found existing installation: distro 1.7.0\n",
            "    Uninstalling distro-1.7.0:\n",
            "      Successfully uninstalled distro-1.7.0\n",
            "Successfully installed Mako-1.3.2 alembic-1.13.1 coverage-7.4.1 distro-1.9.0 docopt-0.6.2 fastapi-0.96.1 gunicorn-20.1.0 h11-0.14.0 httpcore-0.17.3 httpx-0.24.1 pipdeptree-2.13.2 pipreqs-0.4.13 platformdirs-3.11.0 python-engineio-4.9.0 python-multipart-0.0.5 python-socketio-5.11.1 redis-4.6.0 reflex-0.3.9 reflex-hosting-cli-0.1.7 simple-websocket-1.0.0 sqlmodel-0.0.14 starlette-0.27.0 starlette-admin-0.9.0 uvicorn-0.20.0 watchdog-2.3.1 watchfiles-0.19.0 websockets-12.0 wsproto-1.2.0 yarg-0.1.9\n"
          ]
        }
      ],
      "source": [
        "!pip install reflex\n"
      ]
    },
    {
      "cell_type": "code",
      "execution_count": 3,
      "metadata": {
        "colab": {
          "base_uri": "https://localhost:8080/"
        },
        "id": "rR3JqaQY6VS5",
        "outputId": "3cebca02-e314-436a-cb69-6c7900bb5a1b"
      },
      "outputs": [
        {
          "output_type": "stream",
          "name": "stdout",
          "text": [
            "Collecting pyngrok\n",
            "  Downloading pyngrok-7.1.0-py3-none-any.whl (21 kB)\n",
            "Requirement already satisfied: PyYAML in /usr/local/lib/python3.10/dist-packages (from pyngrok) (6.0.1)\n",
            "Installing collected packages: pyngrok\n",
            "Successfully installed pyngrok-7.1.0\n"
          ]
        }
      ],
      "source": [
        "!pip install pyngrok\n"
      ]
    },
    {
      "cell_type": "code",
      "execution_count": 4,
      "metadata": {
        "colab": {
          "base_uri": "https://localhost:8080/"
        },
        "id": "rxoqhFsGzZda",
        "outputId": "72e87305-5d0c-4cdd-a79f-5cf8b61b29e3"
      },
      "outputs": [
        {
          "output_type": "stream",
          "name": "stdout",
          "text": [
            "\u001b[92m─────────────────────────────────────── \u001b[0m\u001b[1mInitializing content\u001b[0m\u001b[92m ───────────────────────────────────────\u001b[0m\n",
            "\n",
            "Get started with a template:\n",
            "blank \u001b[1m(\u001b[0m\u001b[4;94mhttps://blank-template.reflex.run\u001b[0m\u001b[4;94m)\u001b[0m - A minimal template.\n",
            "sidebar \u001b[1m(\u001b[0m\u001b[4;94mhttps://sidebar-template.reflex.run\u001b[0m\u001b[4;94m)\u001b[0m - A template with a sidebar to navigate pages.\n",
            "\n",
            "Which template would you like to use? \u001b[1;35m[blank/sidebar]\u001b[0m \u001b[1;36m(blank)\u001b[0m: blank\n",
            "\u001b[2;36m[23:04:01]\u001b[0m\u001b[2;36m \u001b[0mInitializing the app directory.                                             \u001b]8;id=86298;file:///usr/local/lib/python3.10/dist-packages/reflex/utils/console.py\u001b\\\u001b[2mconsole.py\u001b[0m\u001b]8;;\u001b\\\u001b[2m:\u001b[0m\u001b]8;id=531540;file:///usr/local/lib/python3.10/dist-packages/reflex/utils/console.py#85\u001b\\\u001b[2m85\u001b[0m\u001b]8;;\u001b\\\n",
            "\u001b[?25l\u001b[32m⠋\u001b[0m Installing node Installing Node v18.17.0 (x64)\n",
            "\u001b[2K\u001b[1A\u001b[2K\u001b[32m⠙\u001b[0m Installing node Installing Node v18.17.0 (x64)\n",
            "\u001b[2K\u001b[1A\u001b[2K\u001b[32m⠹\u001b[0m Installing node Installing Node v18.17.0 (x64)\n",
            "\u001b[2K\u001b[1A\u001b[2K\u001b[32m⠸\u001b[0m Installing node Installing Node v18.17.0 (x64)\n",
            "\u001b[2K\u001b[1A\u001b[2K\u001b[32m⠼\u001b[0m Installing node Installing Node v18.17.0 (x64)\n",
            "\u001b[2K\u001b[1A\u001b[2K\u001b[32m⠴\u001b[0m Installing node Installing Node v18.17.0 (x64)\n",
            "\u001b[2K\u001b[1A\u001b[2K\u001b[32m⠦\u001b[0m Installing node Installing Node v18.17.0 (x64)\n",
            "\u001b[2K\u001b[1A\u001b[2K\u001b[32m⠧\u001b[0m Installing node Installing Node v18.17.0 (x64)\n",
            "\u001b[2K\u001b[1A\u001b[2K\u001b[32m⠇\u001b[0m Installing node Installing Node v18.17.0 (x64)\n",
            "\u001b[2K\u001b[1A\u001b[2K\u001b[32m⠏\u001b[0m Installing node Installing Node v18.17.0 (x64)\n",
            "\u001b[2K\u001b[1A\u001b[2K\u001b[32m⠋\u001b[0m Installing node Installing Node v18.17.0 (x64)\n",
            "\u001b[2K\u001b[1A\u001b[2K\u001b[32m⠙\u001b[0m Installing node Installing Node v18.17.0 (x64)\n",
            "\u001b[2K\u001b[1A\u001b[2K\u001b[32m⠹\u001b[0m Installing node Installing Node v18.17.0 (x64)\n",
            "\u001b[2K\u001b[1A\u001b[2K\u001b[32m⠸\u001b[0m Installing node Installing Node v18.17.0 (x64)\n",
            "\u001b[2K\u001b[1A\u001b[2K\u001b[32m⠼\u001b[0m Installing node Installing Node v18.17.0 (x64)\n",
            "\u001b[2K\u001b[1A\u001b[2K\u001b[32m⠴\u001b[0m Installing node Installing Node v18.17.0 (x64)\n",
            "\u001b[2K\u001b[1A\u001b[2K\u001b[32m⠦\u001b[0m Installing node Installing Node v18.17.0 (x64)\n",
            "\u001b[2K\u001b[1A\u001b[2K\u001b[32m⠧\u001b[0m Installing node Installing Node v18.17.0 (x64)\n",
            "\u001b[2K\u001b[1A\u001b[2K\u001b[32m⠇\u001b[0m Installing node Installing Node v18.17.0 (x64)\n",
            "\u001b[2K\u001b[1A\u001b[2K\u001b[32m⠏\u001b[0m Installing node Installing Node v18.17.0 (x64)\n",
            "\u001b[2K\u001b[1A\u001b[2K\u001b[32m⠋\u001b[0m Installing node Installing Node v18.17.0 (x64)\n",
            "\u001b[2K\u001b[1A\u001b[2K\u001b[32m⠙\u001b[0m Installing node Installing Node v18.17.0 (x64)\n",
            "\u001b[2K\u001b[1A\u001b[2K\u001b[32m⠹\u001b[0m Installing node Installing Node v18.17.0 (x64)\n",
            "\u001b[2K\u001b[1A\u001b[2K\u001b[32m⠸\u001b[0m Installing node Installing Node v18.17.0 (x64)\n",
            "\u001b[2K\u001b[1A\u001b[2K\u001b[32m⠼\u001b[0m Installing node Installing Node v18.17.0 (x64)\n",
            "\u001b[2K\u001b[1A\u001b[2K\u001b[32m⠴\u001b[0m Installing node Installing Node v18.17.0 (x64)\n",
            "\u001b[2K\u001b[1A\u001b[2K\u001b[32m⠦\u001b[0m Installing node Installing Node v18.17.0 (x64)\n",
            "\u001b[2K\u001b[1A\u001b[2K\u001b[32m⠧\u001b[0m Installing node Installing Node v18.17.0 (x64)\n",
            "\u001b[2K\u001b[1A\u001b[2K\u001b[32m⠇\u001b[0m Installing node Installing Node v18.17.0 (x64)\n",
            "\u001b[2K\u001b[1A\u001b[2K\u001b[32m⠏\u001b[0m Installing node Installing Node v18.17.0 (x64)\n",
            "\u001b[2K\u001b[1A\u001b[2K\u001b[32m⠋\u001b[0m Installing node Installing Node v18.17.0 (x64)\n",
            "\u001b[2K\u001b[1A\u001b[2K\u001b[32m⠙\u001b[0m Installing node Installing Node v18.17.0 (x64)\n",
            "\u001b[2K\u001b[1A\u001b[2K\u001b[32m⠹\u001b[0m Installing node Installing Node v18.17.0 (x64)\n",
            "\u001b[2K\u001b[1A\u001b[2K\u001b[32m⠸\u001b[0m Installing node Installing Node v18.17.0 (x64)\n",
            "\u001b[2K\u001b[1A\u001b[2K\u001b[32m⠼\u001b[0m Installing node Installing Node v18.17.0 (x64)\n",
            "\u001b[2K\u001b[1A\u001b[2K\u001b[32m⠴\u001b[0m Installing node Installing Node v18.17.0 (x64)\n",
            "\u001b[2K\u001b[1A\u001b[2K\u001b[32m⠦\u001b[0m Installing node Installing Node v18.17.0 (x64)\n",
            "\u001b[2K\u001b[1A\u001b[2K\u001b[32m⠧\u001b[0m Installing node Installing Node v18.17.0 (x64)\n",
            "\u001b[2K\u001b[1A\u001b[2K\u001b[32m⠇\u001b[0m Installing node Installing Node v18.17.0 (x64)\n",
            "\u001b[2K\u001b[1A\u001b[2K\u001b[32m⠏\u001b[0m Installing node Installing Node v18.17.0 (x64)\n",
            "\u001b[2K\u001b[1A\u001b[2K\u001b[32m⠋\u001b[0m Installing node Installing Node v18.17.0 (x64)\n",
            "\u001b[2K\u001b[1A\u001b[2K\u001b[32m⠙\u001b[0m Installing node Installing Node v18.17.0 (x64)\n",
            "\u001b[2K\u001b[1A\u001b[2K\u001b[32m⠹\u001b[0m Installing node Installing Node v18.17.0 (x64)\n",
            "\u001b[2K\u001b[1A\u001b[2K\u001b[32m⠸\u001b[0m Installing node Installing Node v18.17.0 (x64)\n",
            "\u001b[2K\u001b[1A\u001b[2K\u001b[32m⠼\u001b[0m Installing node Installing Node v18.17.0 (x64)\n",
            "\u001b[2K\u001b[1A\u001b[2K\u001b[32m⠴\u001b[0m Installing node Installing Node v18.17.0 (x64)\n",
            "\u001b[2K\u001b[1A\u001b[2K\u001b[32m⠦\u001b[0m Installing node Installing Node v18.17.0 (x64)\n",
            "\u001b[2K\u001b[1A\u001b[2K\u001b[32m⠧\u001b[0m Installing node Installing Node v18.17.0 (x64)\n",
            "\u001b[2K\u001b[1A\u001b[2K\u001b[32m⠇\u001b[0m Installing node Installing Node v18.17.0 (x64)\n",
            "\u001b[2K\u001b[1A\u001b[2K\u001b[32m⠏\u001b[0m Installing node Installing Node v18.17.0 (x64)\n",
            "\u001b[2K\u001b[1A\u001b[2K\u001b[32m⠋\u001b[0m Installing node Installing Node v18.17.0 (x64)\n",
            "\u001b[2K\u001b[1A\u001b[2K\u001b[32m⠙\u001b[0m Installing node Installing Node v18.17.0 (x64)\n",
            "\u001b[2K\u001b[1A\u001b[2K\u001b[32m⠹\u001b[0m Installing node Installing Node v18.17.0 (x64)\n",
            "\u001b[2K\u001b[1A\u001b[2K\u001b[32m⠸\u001b[0m Installing node Installing Node v18.17.0 (x64)\n",
            "\u001b[2K\u001b[1A\u001b[2K\u001b[32m⠼\u001b[0m Installing node Installing Node v18.17.0 (x64)\n",
            "\u001b[2K\u001b[1A\u001b[2K\u001b[32m⠴\u001b[0m Installing node Installing Node v18.17.0 (x64)\n",
            "\u001b[2K\u001b[1A\u001b[2K\u001b[32m⠦\u001b[0m Installing node Installing Node v18.17.0 (x64)\n",
            "\u001b[2K\u001b[1A\u001b[2K\u001b[32m⠧\u001b[0m Installing node Installing Node v18.17.0 (x64)\n",
            "\u001b[2K\u001b[1A\u001b[2K\u001b[32m⠇\u001b[0m Installing node Installing Node v18.17.0 (x64)\n",
            "\u001b[2K\u001b[1A\u001b[2K\u001b[32m⠏\u001b[0m Installing node Installing Node v18.17.0 (x64)\n",
            "\u001b[2K\u001b[1A\u001b[2K\u001b[32m⠙\u001b[0m Installing node Installing Node v18.17.0 (x64)\n",
            "\u001b[2K\u001b[1A\u001b[2K\u001b[32m⠹\u001b[0m Installing node Installing Node v18.17.0 (x64)\n",
            "\u001b[2K\u001b[1A\u001b[2K\u001b[32m⠸\u001b[0m Installing node Installing Node v18.17.0 (x64)\n",
            "\u001b[2K\u001b[1A\u001b[2K\u001b[32m⠼\u001b[0m Installing node Installing Node v18.17.0 (x64)\n",
            "\u001b[2K\u001b[1A\u001b[2K\u001b[32m⠴\u001b[0m Installing node Installing Node v18.17.0 (x64)\n",
            "\u001b[2K\u001b[1A\u001b[2K\u001b[32m⠦\u001b[0m Installing node Installing Node v18.17.0 (x64)\n",
            "\u001b[2K\u001b[1A\u001b[2K\u001b[32m⠧\u001b[0m Installing node Installing Node v18.17.0 (x64)\n",
            "\u001b[2K\u001b[1A\u001b[2K\u001b[32m⠇\u001b[0m Installing node Installing Node v18.17.0 (x64)\n",
            "\u001b[2K\u001b[1A\u001b[2K\u001b[32m⠏\u001b[0m Installing node Installing Node v18.17.0 (x64)\n",
            "\u001b[2K\u001b[1A\u001b[2K\u001b[32m⠋\u001b[0m Installing node Installing Node v18.17.0 (x64)\n",
            "\u001b[2K\u001b[1A\u001b[2K\u001b[32m⠙\u001b[0m Installing node Installing Node v18.17.0 (x64)\n",
            "\u001b[2K\u001b[1A\u001b[2K\u001b[32m⠹\u001b[0m Installing node Installing Node v18.17.0 (x64)\n",
            "\u001b[2K\u001b[1A\u001b[2K\u001b[32m⠸\u001b[0m Installing node Installing Node v18.17.0 (x64)\n",
            "\u001b[2K\u001b[1A\u001b[2K\u001b[32m⠼\u001b[0m Installing node Installing Node v18.17.0 (x64)\n",
            "\u001b[2K\u001b[1A\u001b[2K\u001b[32m⠴\u001b[0m Installing node Installing Node v18.17.0 (x64)\n",
            "\u001b[2K\u001b[1A\u001b[2K\u001b[32m⠴\u001b[0m Installing node Installing Node v18.17.0 (x64)\n",
            "\n",
            "\u001b[1A\u001b[2K\u001b[1A\u001b[2K\u001b[2;36m[23:04:09]\u001b[0m\u001b[2;36m \u001b[0mInitializing the web directory.                                             \u001b]8;id=377584;file:///usr/local/lib/python3.10/dist-packages/reflex/utils/console.py\u001b\\\u001b[2mconsole.py\u001b[0m\u001b]8;;\u001b\\\u001b[2m:\u001b[0m\u001b]8;id=705530;file:///usr/local/lib/python3.10/dist-packages/reflex/utils/console.py#85\u001b\\\u001b[2m85\u001b[0m\u001b]8;;\u001b\\\n",
            "\u001b[32mSuccess: Initialized content\u001b[0m\n"
          ]
        }
      ],
      "source": [
        "!reflex init"
      ]
    },
    {
      "cell_type": "code",
      "execution_count": 5,
      "metadata": {
        "colab": {
          "base_uri": "https://localhost:8080/"
        },
        "id": "wEyUtM6S8sFU",
        "outputId": "02684ef8-e874-4876-94e1-c36db3f943b3"
      },
      "outputs": [
        {
          "output_type": "stream",
          "name": "stdout",
          "text": [
            "NgrokTunnel: \"https://7ce1-34-143-183-43.ngrok-free.app\" -> \"http://localhost:3000\"\n"
          ]
        }
      ],
      "source": [
        "from pyngrok import ngrok\n",
        "ngrok.set_auth_token(\"2bxkniTOoxgFmEuc7gp8iwchXO4_4sPepJPUhDtuSNFXxxUKk\")\n",
        "url = ngrok.connect(3000)\n",
        "print(url)"
      ]
    },
    {
      "cell_type": "code",
      "execution_count": 11,
      "metadata": {
        "colab": {
          "base_uri": "https://localhost:8080/"
        },
        "id": "EH-Pvl0k4wM7",
        "outputId": "4a9c01e1-7be1-445a-8070-002d75539f46"
      },
      "outputs": [
        {
          "output_type": "stream",
          "name": "stdout",
          "text": [
            "\u001b[92m─────────────────────────────────────── \u001b[0m\u001b[1mStarting Reflex App\u001b[0m\u001b[92m ────────────────────────────────────────\u001b[0m\n",
            "\u001b[2KCompiling: \u001b[90m━━━━━━━━━━━━━━━━━━━━━━━━━━━━━━━━━━━━━━━━\u001b[0m \u001b[35m100%\u001b[0m \u001b[32m10/10\u001b[0m \u001b[33m0:00:00\u001b[0m\n",
            "\u001b[?25h\u001b[92m─────────────────────────────────────────── \u001b[0m\u001b[1;32mApp Running\u001b[0m\u001b[92m ────────────────────────────────────────────\u001b[0m\n",
            "App running at: \u001b[1;4;32mhttp://localhost:3000\u001b[0m\n",
            "\u001b[2;36m[23:29:34]\u001b[0m\u001b[2;36m \u001b[0mReflex app stopped.                                                         \u001b]8;id=461603;file:///usr/local/lib/python3.10/dist-packages/reflex/utils/console.py\u001b\\\u001b[2mconsole.py\u001b[0m\u001b]8;;\u001b\\\u001b[2m:\u001b[0m\u001b]8;id=183282;file:///usr/local/lib/python3.10/dist-packages/reflex/utils/console.py#85\u001b\\\u001b[2m85\u001b[0m\u001b]8;;\u001b\\\n",
            "^C\n"
          ]
        }
      ],
      "source": [
        "!reflex run"
      ]
    },
    {
      "cell_type": "code",
      "execution_count": 7,
      "metadata": {
        "id": "MMEoPQXP5Xx2",
        "colab": {
          "base_uri": "https://localhost:8080/"
        },
        "outputId": "143a37e8-a89a-4921-d89b-6cf32eaa8b3c"
      },
      "outputs": [
        {
          "output_type": "stream",
          "name": "stdout",
          "text": [
            "assets\tcontent  drive\t__pycache__  requirements.txt  rxconfig.py  sample_data\n"
          ]
        }
      ],
      "source": [
        "!ls"
      ]
    }
  ],
  "metadata": {
    "accelerator": "GPU",
    "colab": {
      "provenance": [],
      "mount_file_id": "1XDmOiPVhrdpbHpy4zG7eVjjU_-2Sy0T9",
      "authorship_tag": "ABX9TyMxAxISsPnZI0smL+gTxLgK",
      "include_colab_link": true
    },
    "kernelspec": {
      "display_name": "Python 3",
      "name": "python3"
    },
    "language_info": {
      "name": "python"
    }
  },
  "nbformat": 4,
  "nbformat_minor": 0
}